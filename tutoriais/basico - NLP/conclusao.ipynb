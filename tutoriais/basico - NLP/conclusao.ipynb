{
 "cells": [
  {
   "cell_type": "markdown",
   "id": "4cdbea0c-5f4e-4732-8f6c-60639293861a",
   "metadata": {},
   "source": [
    "# mini-projeto de analise de sentimentos\n",
    "### dataset: https://www.kaggle.com/datasets/kavita5/twitter-dataset-avengersendgame"
   ]
  },
  {
   "cell_type": "markdown",
   "id": "a7e8fe4a-329e-4ac6-80bb-b8fa816ed123",
   "metadata": {
    "tags": []
   },
   "source": [
    "## Importando as ferramentas"
   ]
  },
  {
   "cell_type": "code",
   "execution_count": null,
   "id": "7eaba51e-684c-4f40-bc3a-22f2d1cbfc0f",
   "metadata": {},
   "outputs": [],
   "source": [
    "import pandas as pd\n",
    "import seaborn as sns\n",
    "import re"
   ]
  },
  {
   "cell_type": "code",
   "execution_count": null,
   "id": "4c872f29-90a3-451f-8074-4ccf3df86a1f",
   "metadata": {},
   "outputs": [],
   "source": [
    "# se vc n tem a nltk instalada\n",
    "!pip install nltk\n",
    "import nltk\n",
    "nltk.download()"
   ]
  },
  {
   "cell_type": "markdown",
   "id": "f69049bf-fe67-4b34-ad46-072018c5b0ee",
   "metadata": {},
   "source": [
    "## olhando os dados e fazendo ajustes iniciais"
   ]
  },
  {
   "cell_type": "code",
   "execution_count": null,
   "id": "77751503-f857-472e-a515-7d13304b9e66",
   "metadata": {},
   "outputs": [],
   "source": [
    "df = pd.read_csv('./tweets.csv')\n",
    "df.head()"
   ]
  },
  {
   "cell_type": "code",
   "execution_count": null,
   "id": "bb9e0953-8758-4375-b39a-431506487d8b",
   "metadata": {},
   "outputs": [],
   "source": [
    "df.info()"
   ]
  },
  {
   "cell_type": "code",
   "execution_count": null,
   "id": "b21b0726-74ba-45c7-8810-07a9dced9602",
   "metadata": {},
   "outputs": [],
   "source": [
    "ds = df.loc[:, ['text', 'created', 'screenName', 'id']]\n",
    "ds.loc['created'] = pd.to_datetime(df['created'])"
   ]
  },
  {
   "cell_type": "code",
   "execution_count": null,
   "id": "50559f91-9cda-4d00-b149-acbb6d9728de",
   "metadata": {},
   "outputs": [],
   "source": [
    "ds['text'] = ds['text'].astype('string')"
   ]
  },
  {
   "cell_type": "code",
   "execution_count": null,
   "id": "1e5fb76c-33fc-4266-a97f-c7e29fc60403",
   "metadata": {
    "tags": []
   },
   "outputs": [],
   "source": [
    "ds.dropna(inplace=True)\n",
    "print(f\"número de linhas: {ds.shape[0]}\")\n",
    "ds.head()"
   ]
  },
  {
   "cell_type": "markdown",
   "id": "13e6bfcd-f968-458f-b1e7-89f6503fcdf2",
   "metadata": {},
   "source": [
    "## pegando uma amostra e iniciando a analise"
   ]
  },
  {
   "cell_type": "code",
   "execution_count": null,
   "id": "54f4e09d-a0f0-46bb-93b8-320dc08f4c45",
   "metadata": {},
   "outputs": [],
   "source": [
    "work = ds['text'].sample(n=1000)\n",
    "work = work.str.lower()"
   ]
  },
  {
   "cell_type": "code",
   "execution_count": null,
   "id": "8dc9e9f1-5ce8-4c8a-9383-457c9c8669e6",
   "metadata": {},
   "outputs": [],
   "source": [
    "work.iloc[:5]"
   ]
  },
  {
   "cell_type": "code",
   "execution_count": null,
   "id": "b70d53c1-6460-40cf-9fbe-5dea61cdf587",
   "metadata": {},
   "outputs": [],
   "source": [
    "# usando regex e funções do python para retirar/substituir padrões indesejados\n",
    "\n",
    "# substituindo cacacteres desconhecidos por nada(apagando)\n",
    "work = work.apply(lambda s: re.sub(r'[^\\x00-\\x7f]','', s))\n",
    "# substituindo a string 'rt @' por nada(apagando)\n",
    "work = work.apply(lambda s: s.replace('rt @', ''))\n",
    "#removendo todos os caracteres que não sejam letras do alfabeto e os que formam links (padrão http)\n",
    "work = work.apply(lambda s: re.sub(r\"\\s|[^a-zA-Z]|http\\S+\",' ', s))\n",
    "# removendo os espaços desnecessários\n",
    "work = work.apply(lambda s: ' '.join(s.split()))\n",
    "\n",
    "work.iloc[:5]"
   ]
  },
  {
   "cell_type": "markdown",
   "id": "a7ac863c-9078-486a-9452-4d8d6d10122e",
   "metadata": {},
   "source": [
    "## filtragem \"profunda\""
   ]
  },
  {
   "cell_type": "code",
   "execution_count": null,
   "id": "0cdfed5f-0481-4258-847c-a48d1f24f3d6",
   "metadata": {},
   "outputs": [],
   "source": [
    "# tirando termos redundantes (stopwords) + reduzindo os termos aos seus radicais (stemming)\n",
    "\n",
    "stopwords = nltk.corpus.stopwords.words(\"english\")\n",
    "stemmer = nltk.stem.PorterStemmer()\n",
    "tokenizer = nltk.tokenize.word_tokenize\n",
    "\n",
    "def filtragem(string):\n",
    "    tokens = tokenizer(string)\n",
    "    newStr = [stemmer.stem(token) for token in tokens if (token not in stopwords)]\n",
    "    return ' '.join(newStr)\n",
    "\n",
    "work = work.apply(filtragem)"
   ]
  },
  {
   "cell_type": "code",
   "execution_count": null,
   "id": "65b07060-2311-4391-8926-9cab3c8a0500",
   "metadata": {},
   "outputs": [],
   "source": [
    "# vendo os 20 termos mais falados\n",
    "fd = nltk.probability.FreqDist()\n",
    "\n",
    "def contabilidade(s):\n",
    "    tokens = tokenizer(s)\n",
    "    for string in tokens:\n",
    "        fd[string] += 1\n",
    "\n",
    "work.apply(contabilidade)\n",
    "fd.most_common(20)"
   ]
  },
  {
   "cell_type": "markdown",
   "id": "a1544dd1-f157-4a55-bb21-1061c8e69d91",
   "metadata": {},
   "source": [
    "## plotagem"
   ]
  },
  {
   "cell_type": "code",
   "execution_count": null,
   "id": "79c93b5b-4c78-4b9c-8f1a-d29a402b9e35",
   "metadata": {},
   "outputs": [],
   "source": [
    "# usando um algoritimo de sentimentos pronto\n",
    "from nltk.sentiment import SentimentIntensityAnalyzer\n",
    "\n",
    "score = []\n",
    "sa =  SentimentIntensityAnalyzer()\n",
    "work.apply(lambda s: score.append(sa.polarity_scores(s)))\n",
    "score[:5]"
   ]
  },
  {
   "cell_type": "code",
   "execution_count": null,
   "id": "f6af3b9b-f0da-4ac9-8ce6-0a7fc7bacb1b",
   "metadata": {},
   "outputs": [],
   "source": [
    "scores = pd.DataFrame(score)\n",
    "scores = {'classes': ['neg', 'neu', 'pos'],\n",
    "          'pontos': [scores['neg'].sum(), scores['neu'].sum(), scores['pos'].sum()]}\n",
    "scores = pd.DataFrame(scores, columns = ['classes', 'pontos'])"
   ]
  },
  {
   "cell_type": "code",
   "execution_count": null,
   "id": "676ac61b-2a18-4c0a-b4a6-3a98a2c3806a",
   "metadata": {},
   "outputs": [],
   "source": [
    "sns.barplot(data=scores, x=\"classes\", y =\"pontos\")"
   ]
  },
  {
   "cell_type": "markdown",
   "id": "96d11274-adb2-4029-9061-52f26bd98f02",
   "metadata": {},
   "source": [
    "## Conclusões: \n",
    "- gráfico e as 20 plavras mais frequentes."
   ]
  }
 ],
 "metadata": {
  "kernelspec": {
   "display_name": "Python 3 (ipykernel)",
   "language": "python",
   "name": "python3"
  },
  "language_info": {
   "codemirror_mode": {
    "name": "ipython",
    "version": 3
   },
   "file_extension": ".py",
   "mimetype": "text/x-python",
   "name": "python",
   "nbconvert_exporter": "python",
   "pygments_lexer": "ipython3",
   "version": "3.10.6"
  }
 },
 "nbformat": 4,
 "nbformat_minor": 5
}
