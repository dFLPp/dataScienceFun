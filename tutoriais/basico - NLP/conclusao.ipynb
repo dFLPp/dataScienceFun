{
 "cells": [
  {
   "cell_type": "markdown",
   "id": "4cdbea0c-5f4e-4732-8f6c-60639293861a",
   "metadata": {},
   "source": [
    "# mini-projeto de analise de sentimentos\n",
    "### dataset: https://www.kaggle.com/datasets/kavita5/twitter-dataset-avengersendgame"
   ]
  },
  {
   "cell_type": "markdown",
   "id": "a7e8fe4a-329e-4ac6-80bb-b8fa816ed123",
   "metadata": {
    "tags": []
   },
   "source": [
    "## Importando as ferramentas"
   ]
  },
  {
   "cell_type": "code",
   "execution_count": 86,
   "id": "7eaba51e-684c-4f40-bc3a-22f2d1cbfc0f",
   "metadata": {},
   "outputs": [],
   "source": [
    "import pandas as pd\n",
    "import seaborn as sns\n",
    "import re"
   ]
  },
  {
   "cell_type": "code",
   "execution_count": null,
   "id": "4c872f29-90a3-451f-8074-4ccf3df86a1f",
   "metadata": {},
   "outputs": [],
   "source": [
    "# se vc n tem a nltk instalada\n",
    "!pip install nltk\n",
    "import nltk\n",
    "nltk.download()"
   ]
  },
  {
   "cell_type": "markdown",
   "id": "f69049bf-fe67-4b34-ad46-072018c5b0ee",
   "metadata": {},
   "source": [
    "## olhando os dados e fazendo ajustes iniciais"
   ]
  },
  {
   "cell_type": "code",
   "execution_count": null,
   "id": "77751503-f857-472e-a515-7d13304b9e66",
   "metadata": {},
   "outputs": [],
   "source": [
    "df = pd.read_csv('./tweets.csv')\n",
    "df.head()"
   ]
  },
  {
   "cell_type": "code",
   "execution_count": null,
   "id": "bb9e0953-8758-4375-b39a-431506487d8b",
   "metadata": {},
   "outputs": [],
   "source": [
    "df.info()"
   ]
  },
  {
   "cell_type": "code",
   "execution_count": null,
   "id": "b21b0726-74ba-45c7-8810-07a9dced9602",
   "metadata": {},
   "outputs": [],
   "source": [
    "ds = df.loc[:, ['text', 'created', 'screenName', 'id']]\n",
    "ds.loc['created'] = pd.to_datetime(df['created'])"
   ]
  },
  {
   "cell_type": "code",
   "execution_count": null,
   "id": "50559f91-9cda-4d00-b149-acbb6d9728de",
   "metadata": {},
   "outputs": [],
   "source": [
    "ds['text'] = ds['text'].astype('string')\n",
    "ds['id'] = ds['id'].astype('int64')"
   ]
  },
  {
   "cell_type": "code",
   "execution_count": 83,
   "id": "1e5fb76c-33fc-4266-a97f-c7e29fc60403",
   "metadata": {
    "collapsed": true,
    "jupyter": {
     "outputs_hidden": true
    },
    "tags": []
   },
   "outputs": [
    {
     "name": "stdout",
     "output_type": "stream",
     "text": [
      "número de linhas: 15000\n"
     ]
    },
    {
     "data": {
      "text/html": [
       "<div>\n",
       "<style scoped>\n",
       "    .dataframe tbody tr th:only-of-type {\n",
       "        vertical-align: middle;\n",
       "    }\n",
       "\n",
       "    .dataframe tbody tr th {\n",
       "        vertical-align: top;\n",
       "    }\n",
       "\n",
       "    .dataframe thead th {\n",
       "        text-align: right;\n",
       "    }\n",
       "</style>\n",
       "<table border=\"1\" class=\"dataframe\">\n",
       "  <thead>\n",
       "    <tr style=\"text-align: right;\">\n",
       "      <th></th>\n",
       "      <th>text</th>\n",
       "      <th>created</th>\n",
       "      <th>screenName</th>\n",
       "      <th>id</th>\n",
       "    </tr>\n",
       "  </thead>\n",
       "  <tbody>\n",
       "    <tr>\n",
       "      <th>0</th>\n",
       "      <td>RT @mrvelstan: literally nobody:\n",
       "me:\n",
       "\n",
       "#Avenger...</td>\n",
       "      <td>2019-04-23 10:43:30</td>\n",
       "      <td>DavidAc96</td>\n",
       "      <td>1120639328034680064</td>\n",
       "    </tr>\n",
       "    <tr>\n",
       "      <th>1</th>\n",
       "      <td>RT @agntecarter: i�m emotional, sorry!!\n",
       "\n",
       "2014 ...</td>\n",
       "      <td>2019-04-23 10:43:30</td>\n",
       "      <td>NRmalaa</td>\n",
       "      <td>1120639325199200000</td>\n",
       "    </tr>\n",
       "    <tr>\n",
       "      <th>2</th>\n",
       "      <td>saving these bingo cards for tomorrow \n",
       "�\n",
       " #Ave...</td>\n",
       "      <td>2019-04-23 10:43:30</td>\n",
       "      <td>jijitsuu</td>\n",
       "      <td>1120639324683289984</td>\n",
       "    </tr>\n",
       "    <tr>\n",
       "      <th>3</th>\n",
       "      <td>RT @HelloBoon: Man these #AvengersEndgame ads ...</td>\n",
       "      <td>2019-04-23 10:43:29</td>\n",
       "      <td>SahapunB</td>\n",
       "      <td>1120639323328540032</td>\n",
       "    </tr>\n",
       "    <tr>\n",
       "      <th>4</th>\n",
       "      <td>RT @Marvel: We salute you, @ChrisEvans! #Capta...</td>\n",
       "      <td>2019-04-23 10:43:29</td>\n",
       "      <td>stella22_97</td>\n",
       "      <td>1120639321571069952</td>\n",
       "    </tr>\n",
       "  </tbody>\n",
       "</table>\n",
       "</div>"
      ],
      "text/plain": [
       "                                                text              created  \\\n",
       "0  RT @mrvelstan: literally nobody:\n",
       "me:\n",
       "\n",
       "#Avenger...  2019-04-23 10:43:30   \n",
       "1  RT @agntecarter: i�m emotional, sorry!!\n",
       "\n",
       "2014 ...  2019-04-23 10:43:30   \n",
       "2  saving these bingo cards for tomorrow \n",
       "�\n",
       " #Ave...  2019-04-23 10:43:30   \n",
       "3  RT @HelloBoon: Man these #AvengersEndgame ads ...  2019-04-23 10:43:29   \n",
       "4  RT @Marvel: We salute you, @ChrisEvans! #Capta...  2019-04-23 10:43:29   \n",
       "\n",
       "    screenName                   id  \n",
       "0    DavidAc96  1120639328034680064  \n",
       "1      NRmalaa  1120639325199200000  \n",
       "2     jijitsuu  1120639324683289984  \n",
       "3     SahapunB  1120639323328540032  \n",
       "4  stella22_97  1120639321571069952  "
      ]
     },
     "execution_count": 83,
     "metadata": {},
     "output_type": "execute_result"
    }
   ],
   "source": [
    "ds.dropna(inplace=True)\n",
    "print(f\"número de linhas: {ds.shape[0]}\")\n",
    "ds.head()"
   ]
  },
  {
   "cell_type": "markdown",
   "id": "13e6bfcd-f968-458f-b1e7-89f6503fcdf2",
   "metadata": {},
   "source": [
    "## pegando uma amostra e iniciando a analise"
   ]
  },
  {
   "cell_type": "code",
   "execution_count": 105,
   "id": "54f4e09d-a0f0-46bb-93b8-320dc08f4c45",
   "metadata": {},
   "outputs": [],
   "source": [
    "work = ds['text'].sample(n=1000)\n",
    "work = work.str.lower()"
   ]
  },
  {
   "cell_type": "code",
   "execution_count": 106,
   "id": "8dc9e9f1-5ce8-4c8a-9383-457c9c8669e6",
   "metadata": {},
   "outputs": [
    {
     "data": {
      "text/plain": [
       "3911     rt @ashchanchlani: after party #avengersendgam...\n",
       "11964    rt @marvel: 44,800 #lego bricks. 270 hours. on...\n",
       "14081    rt @mcu_direct: the first non-spoiler #avenger...\n",
       "4770     rt @cevansofficial: new: @chrisevans and scarl...\n",
       "7670     rt @marvelstudios: the stars of #avengersendga...\n",
       "Name: text, dtype: string"
      ]
     },
     "execution_count": 106,
     "metadata": {},
     "output_type": "execute_result"
    }
   ],
   "source": [
    "work.iloc[:5]"
   ]
  },
  {
   "cell_type": "code",
   "execution_count": 109,
   "id": "b70d53c1-6460-40cf-9fbe-5dea61cdf587",
   "metadata": {},
   "outputs": [
    {
     "data": {
      "text/plain": [
       "3911     ashchanchlani after party avengersendgame u u ...\n",
       "11964    marvel lego bricks hours one heroic set from l...\n",
       "14081    mcu direct the first non spoiler avengersendga...\n",
       "4770     cevansofficial new chrisevans and scarlett joh...\n",
       "7670     marvelstudios the stars of avengersendgame beg...\n",
       "Name: text, dtype: object"
      ]
     },
     "execution_count": 109,
     "metadata": {},
     "output_type": "execute_result"
    }
   ],
   "source": [
    "# usando regex e funções do python para retirar/substituir padrões indesejados\n",
    "\n",
    "# substituindo cacacteres desconhecidos por nada(apagando)\n",
    "work = work.apply(lambda s: re.sub(r'[^\\x00-\\x7f]','', s))\n",
    "# substituindo a string 'rt @' por nada(apagando)\n",
    "work = work.apply(lambda s: s.replace('rt @', ''))\n",
    "#removendo todos os caracteres que não sejam letras do alfabeto e os que formam links (padrão http)\n",
    "work = work.apply(lambda s: re.sub(r\"\\s|[^a-zA-Z]|http\\S+\",' ', s))\n",
    "# removendo os espaços desnecessários\n",
    "work = work.apply(lambda s: ' '.join(s.split()))\n",
    "\n",
    "work.iloc[:5]"
   ]
  },
  {
   "cell_type": "code",
   "execution_count": 117,
   "id": "0cdfed5f-0481-4258-847c-a48d1f24f3d6",
   "metadata": {},
   "outputs": [],
   "source": [
    "# tirando termos redundantes (stopwords) + reduzindo os termos aos seus radicais (stemming)\n",
    "\n",
    "stopwords = nltk.corpus.stopwords.words(\"english\")\n",
    "stemmer = nltk.stem.PorterStemmer()\n",
    "tokenizer = nltk.tokenize.word_tokenize\n",
    "\n",
    "def filtragem(string):\n",
    "    tokens = tokenizer(string)\n",
    "    newStr = [stemmer.stem(token) for token in tokens if (token not in stopwords)]\n",
    "    return ' '.join(newStr)\n",
    "\n",
    "work = work.apply(filtragem)"
   ]
  },
  {
   "cell_type": "code",
   "execution_count": null,
   "id": "65b07060-2311-4391-8926-9cab3c8a0500",
   "metadata": {},
   "outputs": [],
   "source": [
    "# analisando quais os termos mais falados"
   ]
  }
 ],
 "metadata": {
  "kernelspec": {
   "display_name": "Python 3 (ipykernel)",
   "language": "python",
   "name": "python3"
  },
  "language_info": {
   "codemirror_mode": {
    "name": "ipython",
    "version": 3
   },
   "file_extension": ".py",
   "mimetype": "text/x-python",
   "name": "python",
   "nbconvert_exporter": "python",
   "pygments_lexer": "ipython3",
   "version": "3.10.6"
  }
 },
 "nbformat": 4,
 "nbformat_minor": 5
}
