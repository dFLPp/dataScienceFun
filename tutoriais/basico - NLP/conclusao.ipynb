{
 "cells": [
  {
   "cell_type": "markdown",
   "id": "4cdbea0c-5f4e-4732-8f6c-60639293861a",
   "metadata": {},
   "source": [
    "# mini-projeto de analise de sentimentos\n",
    "### dataset: https://www.kaggle.com/datasets/kavita5/twitter-dataset-avengersendgame"
   ]
  },
  {
   "cell_type": "code",
   "execution_count": null,
   "id": "aee014cb-5e1e-42d9-be83-f1b32e8842c7",
   "metadata": {},
   "outputs": [],
   "source": []
  }
 ],
 "metadata": {
  "kernelspec": {
   "display_name": "Python 3 (ipykernel)",
   "language": "python",
   "name": "python3"
  },
  "language_info": {
   "codemirror_mode": {
    "name": "ipython",
    "version": 3
   },
   "file_extension": ".py",
   "mimetype": "text/x-python",
   "name": "python",
   "nbconvert_exporter": "python",
   "pygments_lexer": "ipython3",
   "version": "3.10.6"
  }
 },
 "nbformat": 4,
 "nbformat_minor": 5
}
