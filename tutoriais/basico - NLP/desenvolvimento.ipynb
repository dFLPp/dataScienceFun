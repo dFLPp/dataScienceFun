{
 "cells": [
  {
   "cell_type": "markdown",
   "id": "2f74ac13-4818-4349-983d-e90b832234ac",
   "metadata": {},
   "source": [
    "# Outras funções/funcionalidades"
   ]
  },
  {
   "cell_type": "markdown",
   "id": "0123fdab-76e0-48c3-9481-88143c11fc4e",
   "metadata": {
    "tags": []
   },
   "source": [
    "## nltk corpus"
   ]
  },
  {
   "cell_type": "code",
   "execution_count": null,
   "id": "b8073f33-5504-4a46-81a3-75de9e65c9cf",
   "metadata": {},
   "outputs": [],
   "source": [
    "!pip install nltk\n",
    "import nltk\n",
    "nltk.download()"
   ]
  },
  {
   "cell_type": "code",
   "execution_count": null,
   "id": "5726d150-1742-44ec-afdc-880bf1bf89b9",
   "metadata": {
    "tags": []
   },
   "outputs": [],
   "source": [
    "# corpus (tipo um dicionario)\n",
    "from nltk.corpus import brown\n",
    "\n",
    "palavras = brown.words(categories =['romance']) # \"mini dicionario\" só com palavras da categoria \"romance\"\n",
    "print(palavras[0:5], type(palavras))\n",
    "\n",
    "palavras = nltk.Text(palavras)\n",
    "print(palavras.concordance('love'), type(palavras))"
   ]
  },
  {
   "cell_type": "markdown",
   "id": "70da3469-efd2-45cd-8260-7c672b7fff0d",
   "metadata": {},
   "source": [
    "## biblioteca textblob\n",
    "algumas funcionalidades legais como correção e tradução de palavras"
   ]
  },
  {
   "cell_type": "code",
   "execution_count": null,
   "id": "10dad1e8-6d6c-4e14-b253-20f77ccc924d",
   "metadata": {},
   "outputs": [],
   "source": [
    "!pip install textblob\n",
    "from textblob import TextBlob"
   ]
  },
  {
   "cell_type": "code",
   "execution_count": null,
   "id": "0366f89e-2174-4643-8b39-11a6a5cd83b1",
   "metadata": {},
   "outputs": [],
   "source": [
    "frase = TextBlob(\"Oi, eu sou uma frase! Essa é outra sentença.\")\n",
    "print(f\"para o Inglês: {frase.translate(from_lang='pt', to='en')}\")\n",
    "print(f\"para o Espanhol: {frase.translate(from_lang='pt', to='es')}\")"
   ]
  },
  {
   "cell_type": "code",
   "execution_count": null,
   "id": "b63aebcc-9e81-4414-bfd1-34086007ad94",
   "metadata": {},
   "outputs": [],
   "source": [
    "frase = TextBlob(\"fizing an eror\")\n",
    "frase.correct()\n",
    "# corrige gramaticamente, independente da coerencia / regras gramaticais"
   ]
  },
  {
   "cell_type": "code",
   "execution_count": null,
   "id": "58bbcdfe-4f98-4995-86e5-38eb96042d9a",
   "metadata": {},
   "outputs": [],
   "source": [
    "import pandas as pd\n",
    "ds = pd.read_csv(\"./news.csv\", sep=\";\", header=None)\n",
    "ds.head()\n",
    "# considere que o que está na coluna 1 é o definitivo, que é a resposta correta."
   ]
  },
  {
   "cell_type": "code",
   "execution_count": null,
   "id": "4f14756d-0c5e-47e3-b1d5-b585387faa77",
   "metadata": {},
   "outputs": [],
   "source": [
    "from textblob.classifiers import NaiveBayesClassifier\n",
    "classificador = NaiveBayesClassifier(ds.values, format=\"csv\") \n",
    "# entre outras coisas, organiza os dados da coluna 0 no formato bag of words\n",
    "\n",
    "f = 'O Chaves é atacado por manifestantes'\n",
    "\n",
    "classificador.extract_features(f)\n",
    "classificador.classify(f)"
   ]
  },
  {
   "cell_type": "code",
   "execution_count": null,
   "id": "2a4b1385-f147-4997-965d-9431d5a63f30",
   "metadata": {},
   "outputs": [],
   "source": [
    "prob = classificador.prob_classify(f)\n",
    "prob.prob('fake_news')"
   ]
  },
  {
   "cell_type": "markdown",
   "id": "b91e7c84-9b94-488a-bba9-ea0c16b642c0",
   "metadata": {},
   "source": [
    "## SentilexPT e analise de sentimentos\n",
    "Sentilex é léxico, uma database assim como o corpus, com o diferencial de que suporta o português (portugal)\n",
    "Pode ser usado para fazer part of speech ou analise de sentimentos (a seguir)\n",
    "[Saiba mais](https://github.com/caiomsouza/u-tad-eds-proyecto-final/tree/master/lexicon/SentiLex-PT01)."
   ]
  },
  {
   "cell_type": "code",
   "execution_count": null,
   "id": "0dcd3c6f-5edb-4b39-8a96-86b187ce797b",
   "metadata": {
    "tags": []
   },
   "outputs": [],
   "source": [
    "sentilexFILE = open('SentiLex-PT01/SentiLex-lem-PT01.txt','r')\n",
    "\n",
    "#passando as palavras do arquivo e sua pontuação para o python (olhe o arquivo)\n",
    "palavrasSENTILEX = {}\n",
    "for linha in sentilexFILE.readlines():\n",
    "    #pegando a palavra\n",
    "    dotIndex = linha.find('.')\n",
    "    palavra = (linha[:dotIndex])\n",
    "    \n",
    "    #pegando a pontuação\n",
    "    scoreIndex = linha.find('POL')\n",
    "    score = (linha[scoreIndex+4 : scoreIndex+6]).replace(';', '')\n",
    "    \n",
    "    #salvando os valores em um dict (tipo json)\n",
    "    palavrasSENTILEX[palavra] = score\n",
    "\n",
    "print(palavrasSENTILEX)\n",
    "sentilexFILE.close()\n"
   ]
  },
  {
   "cell_type": "code",
   "execution_count": null,
   "id": "4cfb3d88-75a4-4ef6-9b02-2c687ea19db3",
   "metadata": {},
   "outputs": [],
   "source": [
    "# função para analisar o sentimento total da frase\n",
    "\n",
    "def sent(f):\n",
    "    total_score = []\n",
    "    palavras = f.lower().split()\n",
    "    for palavra in palavras:\n",
    "        value = palavrasSENTILEX.get(palavra, 0)\n",
    "        total_score.append(int(value))\n",
    "    total_score = sum(total_score)\n",
    "    \n",
    "    if total_score > 0: return 'bom'\n",
    "    elif total_score < 0: return 'mal'\n",
    "    else: return 'neutro'\n"
   ]
  },
  {
   "cell_type": "code",
   "execution_count": null,
   "id": "d839d253-07dc-459f-82db-9d69fb95a3a3",
   "metadata": {},
   "outputs": [],
   "source": [
    "res = sent('Produto ruim. Embalagem rasgada.')\n",
    "print(f\"resultado com pontuação: {res}\")\n",
    "\n",
    "res = sent('Produto ruim Embalagem rasgada')\n",
    "print(f\"resultado sem pontuação: {res}\")\n",
    "\n",
    "# deveria ser feita uma \"Limpeza\" na frase."
   ]
  }
 ],
 "metadata": {
  "kernelspec": {
   "display_name": "Python 3 (ipykernel)",
   "language": "python",
   "name": "python3"
  },
  "language_info": {
   "codemirror_mode": {
    "name": "ipython",
    "version": 3
   },
   "file_extension": ".py",
   "mimetype": "text/x-python",
   "name": "python",
   "nbconvert_exporter": "python",
   "pygments_lexer": "ipython3",
   "version": "3.10.6"
  }
 },
 "nbformat": 4,
 "nbformat_minor": 5
}
