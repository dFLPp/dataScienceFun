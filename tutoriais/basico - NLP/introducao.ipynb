{
 "cells": [
  {
   "cell_type": "markdown",
   "id": "c296fb49-47f3-4537-baaa-57148e84551e",
   "metadata": {},
   "source": [
    "# Introdução à NLP\n",
    "\n",
    "> NLP = Natural language processing\n",
    "\n",
    "É o campo de estudo que faz os computadores \"entenderem\" texto. \n",
    "Também conhecida com mineração de texto, essa atividade pode ser usada para saber o que as pessoas estão falando em redes sociais ao usar databases ou fazer web scrapping, também é usado na criação da inteligência artificial de chatbots."
   ]
  },
  {
   "cell_type": "markdown",
   "id": "f6597d4c-2eb3-4b51-804a-76ed9c4941e4",
   "metadata": {},
   "source": [
    "### Alguns conceitos\n",
    "\n",
    "- Wordnet: é tipo uma grande database que reune palavras e agrupa ela por categorias (parece mais com um dicionário na real)\n",
    "- Part of speech: é uma tecnologia/metodologia que consegue destrinchar os verbos, substantivos, etc de uma frase\n",
    "- Reconhecimento de Entidades: relaciona as part of speech (tipo, o programa entende que sobre quem estão falando)\n",
    "- Análise de Sentimentos: É uma analise sobre o \"sentimento\" da frase, tipo, está falando mau ou bem."
   ]
  }
 ],
 "metadata": {
  "kernelspec": {
   "display_name": "Python 3 (ipykernel)",
   "language": "python",
   "name": "python3"
  },
  "language_info": {
   "codemirror_mode": {
    "name": "ipython",
    "version": 3
   },
   "file_extension": ".py",
   "mimetype": "text/x-python",
   "name": "python",
   "nbconvert_exporter": "python",
   "pygments_lexer": "ipython3",
   "version": "3.10.6"
  }
 },
 "nbformat": 4,
 "nbformat_minor": 5
}
