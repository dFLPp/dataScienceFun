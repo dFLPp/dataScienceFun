{
 "cells": [
  {
   "cell_type": "code",
   "execution_count": null,
   "id": "59d6ee11-0bc7-4407-8faf-abe560158885",
   "metadata": {},
   "outputs": [],
   "source": [
    "import pandas as pd\n",
    "import seaborn as sns"
   ]
  },
  {
   "cell_type": "code",
   "execution_count": null,
   "id": "9c32980f-b49c-4c43-81ef-be6dc5624d40",
   "metadata": {},
   "outputs": [],
   "source": [
    "df = pd.read_csv(\"./cars.csv\")\n",
    "df.Origin.value_counts()"
   ]
  },
  {
   "cell_type": "code",
   "execution_count": null,
   "id": "8d26f9de-04b4-4bfc-b752-1b8a22382621",
   "metadata": {
    "tags": []
   },
   "outputs": [],
   "source": [
    "USA = df.loc[df[\"Origin\"] == \"USA\", [\"Type\", \"Weight\", \"Horsepower\", \"MSRP\", \"Origin\"]]\n",
    "Asia = df.loc[df[\"Origin\"] == \"Asia\", [\"Type\", \"Weight\", \"Horsepower\", \"MSRP\", \"Origin\"]]\n",
    "\n",
    "USA = USA.dropna()\n",
    "Asia = Asia.dropna()"
   ]
  },
  {
   "cell_type": "code",
   "execution_count": null,
   "id": "4dcfa4bf-42e6-400b-9247-57f43593f083",
   "metadata": {},
   "outputs": [],
   "source": [
    "USA.head()"
   ]
  },
  {
   "cell_type": "code",
   "execution_count": null,
   "id": "bb328161-b6a6-40ca-8d48-49a3ede70102",
   "metadata": {},
   "outputs": [],
   "source": [
    "def formatCurrency(x):\n",
    "    if isinstance(x, str):\n",
    "        return x.replace('$', '').replace(',', '')\n",
    "    return x\n",
    "\n",
    "USA['MSRP'] = USA['MSRP'].apply(formatCurrency).astype(float)\n",
    "Asia['MSRP'] = Asia['MSRP'].apply(formatCurrency).astype(float)"
   ]
  },
  {
   "cell_type": "code",
   "execution_count": null,
   "id": "1e79ebad-7a2a-43af-8aa5-5e32ea0ca05e",
   "metadata": {},
   "outputs": [],
   "source": [
    "sns.histplot(data = USA, y=\"Type\", x=\"MSRP\")\n",
    "SedansUSA = USA.loc[(USA.Type == \"Sedan\") & (USA.MSRP > 10000) & (USA.MSRP < 40000)]"
   ]
  },
  {
   "cell_type": "code",
   "execution_count": null,
   "id": "532f658e-64d6-44bc-bd52-9bb8703b846e",
   "metadata": {},
   "outputs": [],
   "source": [
    "sns.histplot(data = Asia, y=\"Type\", x=\"MSRP\")\n",
    "SedansAsia = Asia.loc[(Asia.Type == \"Sedan\") & (Asia.MSRP > 10000) & (Asia.MSRP < 40000)]"
   ]
  },
  {
   "cell_type": "code",
   "execution_count": null,
   "id": "c8e01979-4386-4cb7-b839-e6b99856fce3",
   "metadata": {},
   "outputs": [],
   "source": [
    "pd.set_option('mode.chained_assignment', None)\n",
    "\n",
    "faixas = [\"weak\", \"normal\", \"strong\"]\n",
    "SedansUSA[\"classification\"] = pd.cut(SedansUSA.Horsepower, 3, labels=faixas)\n",
    "SedansAsia[\"classification\"] = pd.cut(SedansAsia.Horsepower, 3, labels=faixas)\n",
    "\n",
    "res = pd.concat([SedansUSA, SedansAsia])"
   ]
  },
  {
   "cell_type": "code",
   "execution_count": null,
   "id": "320d9472-e91d-4015-89e4-c23cdb78a52d",
   "metadata": {},
   "outputs": [],
   "source": [
    "sns.barplot(data=res, hue=\"Origin\", x=\"classification\", y=\"Weight\")"
   ]
  }
 ],
 "metadata": {
  "kernelspec": {
   "display_name": "Python 3 (ipykernel)",
   "language": "python",
   "name": "python3"
  },
  "language_info": {
   "codemirror_mode": {
    "name": "ipython",
    "version": 3
   },
   "file_extension": ".py",
   "mimetype": "text/x-python",
   "name": "python",
   "nbconvert_exporter": "python",
   "pygments_lexer": "ipython3",
   "version": "3.10.6"
  }
 },
 "nbformat": 4,
 "nbformat_minor": 5
}
