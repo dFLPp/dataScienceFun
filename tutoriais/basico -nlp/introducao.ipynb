{
 "cells": [
  {
   "cell_type": "markdown",
   "id": "c296fb49-47f3-4537-baaa-57148e84551e",
   "metadata": {},
   "source": [
    "# Introdução à NLP\n",
    "\n",
    "> NLP = Natural language processing\n",
    "\n",
    "É o campo de estudo que faz os computadores \"entenderem\" texto"
   ]
  }
 ],
 "metadata": {
  "kernelspec": {
   "display_name": "Python 3 (ipykernel)",
   "language": "python",
   "name": "python3"
  },
  "language_info": {
   "codemirror_mode": {
    "name": "ipython",
    "version": 3
   },
   "file_extension": ".py",
   "mimetype": "text/x-python",
   "name": "python",
   "nbconvert_exporter": "python",
   "pygments_lexer": "ipython3",
   "version": "3.10.6"
  }
 },
 "nbformat": 4,
 "nbformat_minor": 5
}
