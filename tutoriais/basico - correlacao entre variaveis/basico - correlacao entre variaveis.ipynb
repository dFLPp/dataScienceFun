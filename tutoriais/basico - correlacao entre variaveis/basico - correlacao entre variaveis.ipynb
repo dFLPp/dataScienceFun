{
 "cells": [
  {
   "cell_type": "markdown",
   "id": "a44be82b-cb0b-4fb8-8d1c-f30deb73a784",
   "metadata": {
    "tags": []
   },
   "source": [
    "# Brincando de casinha"
   ]
  },
  {
   "cell_type": "markdown",
   "id": "98268f35-9b11-43cf-babd-c8af0dcb536f",
   "metadata": {
    "tags": []
   },
   "source": [
    "## O que queremos?\n",
    "- Verificar a correlação entre o ano de contrução da casa e seu preço.\n",
    "\n",
    "## O que temos que fazer?\n",
    "- \"Limpar\" os dados (tirar os valores faltantes e os outliers)\n",
    "- Analisar os dados (pensar usando a estatística)\n",
    "- tirar conclusões  (...)"
   ]
  },
  {
   "cell_type": "markdown",
   "id": "c72c750a-1ba9-42ef-ad97-cf11a26a398b",
   "metadata": {
    "tags": []
   },
   "source": [
    "### Primeiros passos"
   ]
  },
  {
   "cell_type": "code",
   "execution_count": null,
   "id": "d955fd55-d7b1-48d5-be6d-5a84dd5d5f95",
   "metadata": {},
   "outputs": [],
   "source": [
    "import pandas as pd\n",
    "import seaborn as sns\n",
    "\n",
    "path = \"./\"\n",
    "file = \"kc_house_data.csv\"\n",
    "ds = pd.read_csv(f\"{path+file}\", sep=\",\")"
   ]
  },
  {
   "cell_type": "code",
   "execution_count": null,
   "id": "09b71f52-2778-4f26-9d72-bfc62612ac82",
   "metadata": {
    "tags": []
   },
   "outputs": [],
   "source": [
    "ds.head()"
   ]
  },
  {
   "cell_type": "markdown",
   "id": "2c132375-d46d-42f7-b34a-8920f8674979",
   "metadata": {},
   "source": [
    "### Pre processamento (limpeza)"
   ]
  },
  {
   "cell_type": "code",
   "execution_count": null,
   "id": "079b6602-150a-44be-99d5-9a19e1d50f13",
   "metadata": {
    "tags": []
   },
   "outputs": [],
   "source": [
    "# reduzindo nossa \"area de trabalho\"\n",
    "q1 = ds.loc[:, (\"yr_built\", \"yr_renovated\", \"price\")] # recomendado\n",
    "#q1 = ds[[\"yr_built\", \"yr_renovated\", \"price\"]] - não recomendado\n",
    "q1.describe()"
   ]
  },
  {
   "cell_type": "code",
   "execution_count": null,
   "id": "e04f2fdc-078b-44ae-a7c8-2601b6d7b670",
   "metadata": {
    "tags": []
   },
   "outputs": [],
   "source": [
    "# retirando linhas que tem algum valor faltando\n",
    "q1.dropna(inplace=True)\n",
    "# ds = ds.dropna()\n",
    "q1.isna().sum()"
   ]
  },
  {
   "cell_type": "code",
   "execution_count": null,
   "id": "87e626aa-2caf-411a-be0f-9137906e5ef1",
   "metadata": {},
   "outputs": [],
   "source": [
    "# procurando outliers no preço (valores muito maiores ou menores que o \"normal\" da amastra)\n",
    "sns.boxplot(q1.price)"
   ]
  },
  {
   "cell_type": "code",
   "execution_count": null,
   "id": "c79568c8-5730-439b-b722-72384c24ca7c",
   "metadata": {},
   "outputs": [],
   "source": [
    "# existem varias formas de definir um intervalo valido\n",
    "print(f\"intervalo antes: [{q1.price.min()}, {q1.price.max()}]\")\n",
    "\n",
    "\n",
    "# algumas vezes, aliás, não é necessário redimensionar o intervalo dos dados\n",
    "# em outras você não Deve. Aqui vou fazer.\n",
    "muitoAbaixo = q1[\"price\"].quantile(0.15)\n",
    "muitoAcima  = q1[\"price\"].quantile(0.85)\n",
    "\n",
    "q1 = q1.loc[(q1[\"price\"] < muitoAcima) & (q1[\"price\"] > muitoAbaixo)]\n",
    "print(f\"intervalo depois: [{df_filtered.price.min()}, {df_filtered.price.max()}]\")"
   ]
  },
  {
   "cell_type": "code",
   "execution_count": null,
   "id": "588f1bf6-2719-46ac-84cf-774faf730873",
   "metadata": {},
   "outputs": [],
   "source": [
    "sns.boxplot(data = q1, x = \"price\")"
   ]
  },
  {
   "cell_type": "markdown",
   "id": "7e8b33b4-87da-4640-9ada-933b3d18dcf7",
   "metadata": {},
   "source": [
    "### Analisando"
   ]
  },
  {
   "cell_type": "code",
   "execution_count": null,
   "id": "83bd36ef-60c9-4ff2-8d2a-a62735952828",
   "metadata": {},
   "outputs": [],
   "source": [
    "# Vamos discretizar, separar os preços em faixas bem definidas\n",
    "faixas = [\"barato\", \"medio\", \"caro\"]\n",
    "q1[\"classification\"] = pd.cut(q1.price, 3, labels=faixas)\n",
    "# 3 intervalos igualmente espaçados\n",
    "q1.head()"
   ]
  },
  {
   "cell_type": "code",
   "execution_count": null,
   "id": "b103f692-cf86-4a74-b335-9bca1abc0dcd",
   "metadata": {},
   "outputs": [],
   "source": [
    "sns.histplot(data=q1, x=\"classification\")\n",
    "#eixo y é o número de elementos dentro desse intervalo"
   ]
  },
  {
   "cell_type": "code",
   "execution_count": null,
   "id": "d4f82fad-4444-4aa3-81b2-0618fe4e8c3c",
   "metadata": {
    "tags": []
   },
   "outputs": [],
   "source": [
    "# criando outras colunas para filtra\n",
    "q1.loc[q1[\"yr_renovated\"] > 0, \"isRenovated\"] = 1\n",
    "# 0 = não renovada, 1 = renovada\n",
    "\n",
    "q1[\"idadeCasa\"] = pd.cut(q1.yr_built, 3, labels=[\"velha\", \"adulta\", \"nova\"])\n",
    "\n",
    "q1.head(10)"
   ]
  },
  {
   "cell_type": "code",
   "execution_count": null,
   "id": "6b06c1c6-b5e8-4632-a2e4-cc8426672d71",
   "metadata": {},
   "outputs": [],
   "source": [
    "sns.barplot(data=q1, x=\"idadeCasa\", y=\"price\", hue=\"isRenovated\")"
   ]
  },
  {
   "cell_type": "code",
   "execution_count": null,
   "id": "0b2845be-9c89-404a-8ee1-13c0f5528523",
   "metadata": {},
   "outputs": [],
   "source": [
    "sns.heatmap(q1.corr(numeric_only=True))"
   ]
  },
  {
   "cell_type": "markdown",
   "id": "105633b9-13dd-4d42-9bb1-e9f934f5f7bc",
   "metadata": {},
   "source": [
    "### conclusões\n",
    "\n",
    "- Pelos gráficos (não mostraram tendência) e pelo valor da correlação (perto de 0) podemos afirmar que o preço não varia de acordo com a idade da casa, ao menos não diretamente."
   ]
  }
 ],
 "metadata": {
  "kernelspec": {
   "display_name": "Python 3 (ipykernel)",
   "language": "python",
   "name": "python3"
  },
  "language_info": {
   "codemirror_mode": {
    "name": "ipython",
    "version": 3
   },
   "file_extension": ".py",
   "mimetype": "text/x-python",
   "name": "python",
   "nbconvert_exporter": "python",
   "pygments_lexer": "ipython3",
   "version": "3.10.6"
  }
 },
 "nbformat": 4,
 "nbformat_minor": 5
}
