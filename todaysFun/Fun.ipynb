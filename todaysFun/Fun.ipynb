{
 "cells": [
  {
   "cell_type": "markdown",
   "id": "a44be82b-cb0b-4fb8-8d1c-f30deb73a784",
   "metadata": {
    "tags": []
   },
   "source": [
    "# Brincando de casinha"
   ]
  },
  {
   "cell_type": "markdown",
   "id": "98268f35-9b11-43cf-babd-c8af0dcb536f",
   "metadata": {
    "tags": []
   },
   "source": [
    "## O que queremos?\n",
    "- Verificar a correlação entre o ano de contrução da casa e seu preço.\n",
    "\n",
    "## O que temos que fazer?\n",
    "- \"Limpar\" os dados (tirar os valores faltantes e os outliers)\n",
    "- Analisar os dados (pensar usando a estatística)\n",
    "- tirar conclusões  (...)"
   ]
  },
  {
   "cell_type": "markdown",
   "id": "c72c750a-1ba9-42ef-ad97-cf11a26a398b",
   "metadata": {
    "tags": []
   },
   "source": [
    "### Primeiros passos"
   ]
  },
  {
   "cell_type": "code",
   "execution_count": 62,
   "id": "d955fd55-d7b1-48d5-be6d-5a84dd5d5f95",
   "metadata": {},
   "outputs": [],
   "source": [
    "import pandas as pd\n",
    "import seaborn as sns\n",
    "\n",
    "path = \"./\"\n",
    "file = \"kc_house_data.csv\"\n",
    "ds = pd.read_csv(f\"{path+file}\", sep=\",\")"
   ]
  },
  {
   "cell_type": "code",
   "execution_count": 2,
   "id": "09b71f52-2778-4f26-9d72-bfc62612ac82",
   "metadata": {
    "collapsed": true,
    "jupyter": {
     "outputs_hidden": true
    },
    "tags": []
   },
   "outputs": [
    {
     "data": {
      "text/html": [
       "<div>\n",
       "<style scoped>\n",
       "    .dataframe tbody tr th:only-of-type {\n",
       "        vertical-align: middle;\n",
       "    }\n",
       "\n",
       "    .dataframe tbody tr th {\n",
       "        vertical-align: top;\n",
       "    }\n",
       "\n",
       "    .dataframe thead th {\n",
       "        text-align: right;\n",
       "    }\n",
       "</style>\n",
       "<table border=\"1\" class=\"dataframe\">\n",
       "  <thead>\n",
       "    <tr style=\"text-align: right;\">\n",
       "      <th></th>\n",
       "      <th>id</th>\n",
       "      <th>date</th>\n",
       "      <th>price</th>\n",
       "      <th>bedrooms</th>\n",
       "      <th>bathrooms</th>\n",
       "      <th>sqft_living</th>\n",
       "      <th>sqft_lot</th>\n",
       "      <th>floors</th>\n",
       "      <th>waterfront</th>\n",
       "      <th>view</th>\n",
       "      <th>...</th>\n",
       "      <th>grade</th>\n",
       "      <th>sqft_above</th>\n",
       "      <th>sqft_basement</th>\n",
       "      <th>yr_built</th>\n",
       "      <th>yr_renovated</th>\n",
       "      <th>zipcode</th>\n",
       "      <th>lat</th>\n",
       "      <th>long</th>\n",
       "      <th>sqft_living15</th>\n",
       "      <th>sqft_lot15</th>\n",
       "    </tr>\n",
       "  </thead>\n",
       "  <tbody>\n",
       "    <tr>\n",
       "      <th>0</th>\n",
       "      <td>7129300520</td>\n",
       "      <td>20141013T000000</td>\n",
       "      <td>221900.0</td>\n",
       "      <td>3.0</td>\n",
       "      <td>1.00</td>\n",
       "      <td>1180</td>\n",
       "      <td>5650</td>\n",
       "      <td>1.0</td>\n",
       "      <td>0</td>\n",
       "      <td>0</td>\n",
       "      <td>...</td>\n",
       "      <td>7</td>\n",
       "      <td>1180</td>\n",
       "      <td>0</td>\n",
       "      <td>1955</td>\n",
       "      <td>0</td>\n",
       "      <td>98178</td>\n",
       "      <td>47.5112</td>\n",
       "      <td>-122.257</td>\n",
       "      <td>1340</td>\n",
       "      <td>5650</td>\n",
       "    </tr>\n",
       "    <tr>\n",
       "      <th>1</th>\n",
       "      <td>6414100192</td>\n",
       "      <td>20141209T000000</td>\n",
       "      <td>538000.0</td>\n",
       "      <td>3.0</td>\n",
       "      <td>2.25</td>\n",
       "      <td>2570</td>\n",
       "      <td>7242</td>\n",
       "      <td>2.0</td>\n",
       "      <td>0</td>\n",
       "      <td>0</td>\n",
       "      <td>...</td>\n",
       "      <td>7</td>\n",
       "      <td>2170</td>\n",
       "      <td>400</td>\n",
       "      <td>1951</td>\n",
       "      <td>1991</td>\n",
       "      <td>98125</td>\n",
       "      <td>47.7210</td>\n",
       "      <td>-122.319</td>\n",
       "      <td>1690</td>\n",
       "      <td>7639</td>\n",
       "    </tr>\n",
       "    <tr>\n",
       "      <th>2</th>\n",
       "      <td>5631500400</td>\n",
       "      <td>20150225T000000</td>\n",
       "      <td>180000.0</td>\n",
       "      <td>2.0</td>\n",
       "      <td>1.00</td>\n",
       "      <td>770</td>\n",
       "      <td>10000</td>\n",
       "      <td>1.0</td>\n",
       "      <td>0</td>\n",
       "      <td>0</td>\n",
       "      <td>...</td>\n",
       "      <td>6</td>\n",
       "      <td>770</td>\n",
       "      <td>0</td>\n",
       "      <td>1933</td>\n",
       "      <td>0</td>\n",
       "      <td>98028</td>\n",
       "      <td>47.7379</td>\n",
       "      <td>-122.233</td>\n",
       "      <td>2720</td>\n",
       "      <td>8062</td>\n",
       "    </tr>\n",
       "    <tr>\n",
       "      <th>3</th>\n",
       "      <td>2487200875</td>\n",
       "      <td>20141209T000000</td>\n",
       "      <td>604000.0</td>\n",
       "      <td>4.0</td>\n",
       "      <td>3.00</td>\n",
       "      <td>1960</td>\n",
       "      <td>5000</td>\n",
       "      <td>1.0</td>\n",
       "      <td>0</td>\n",
       "      <td>0</td>\n",
       "      <td>...</td>\n",
       "      <td>7</td>\n",
       "      <td>1050</td>\n",
       "      <td>910</td>\n",
       "      <td>1965</td>\n",
       "      <td>0</td>\n",
       "      <td>98136</td>\n",
       "      <td>47.5208</td>\n",
       "      <td>-122.393</td>\n",
       "      <td>1360</td>\n",
       "      <td>5000</td>\n",
       "    </tr>\n",
       "    <tr>\n",
       "      <th>4</th>\n",
       "      <td>1954400510</td>\n",
       "      <td>20150218T000000</td>\n",
       "      <td>510000.0</td>\n",
       "      <td>3.0</td>\n",
       "      <td>2.00</td>\n",
       "      <td>1680</td>\n",
       "      <td>8080</td>\n",
       "      <td>1.0</td>\n",
       "      <td>0</td>\n",
       "      <td>0</td>\n",
       "      <td>...</td>\n",
       "      <td>8</td>\n",
       "      <td>1680</td>\n",
       "      <td>0</td>\n",
       "      <td>1987</td>\n",
       "      <td>0</td>\n",
       "      <td>98074</td>\n",
       "      <td>47.6168</td>\n",
       "      <td>-122.045</td>\n",
       "      <td>1800</td>\n",
       "      <td>7503</td>\n",
       "    </tr>\n",
       "  </tbody>\n",
       "</table>\n",
       "<p>5 rows × 21 columns</p>\n",
       "</div>"
      ],
      "text/plain": [
       "           id             date     price  bedrooms  bathrooms  sqft_living  \\\n",
       "0  7129300520  20141013T000000  221900.0       3.0       1.00         1180   \n",
       "1  6414100192  20141209T000000  538000.0       3.0       2.25         2570   \n",
       "2  5631500400  20150225T000000  180000.0       2.0       1.00          770   \n",
       "3  2487200875  20141209T000000  604000.0       4.0       3.00         1960   \n",
       "4  1954400510  20150218T000000  510000.0       3.0       2.00         1680   \n",
       "\n",
       "   sqft_lot  floors  waterfront  view  ...  grade  sqft_above  sqft_basement  \\\n",
       "0      5650     1.0           0     0  ...      7        1180              0   \n",
       "1      7242     2.0           0     0  ...      7        2170            400   \n",
       "2     10000     1.0           0     0  ...      6         770              0   \n",
       "3      5000     1.0           0     0  ...      7        1050            910   \n",
       "4      8080     1.0           0     0  ...      8        1680              0   \n",
       "\n",
       "   yr_built  yr_renovated  zipcode      lat     long  sqft_living15  \\\n",
       "0      1955             0    98178  47.5112 -122.257           1340   \n",
       "1      1951          1991    98125  47.7210 -122.319           1690   \n",
       "2      1933             0    98028  47.7379 -122.233           2720   \n",
       "3      1965             0    98136  47.5208 -122.393           1360   \n",
       "4      1987             0    98074  47.6168 -122.045           1800   \n",
       "\n",
       "   sqft_lot15  \n",
       "0        5650  \n",
       "1        7639  \n",
       "2        8062  \n",
       "3        5000  \n",
       "4        7503  \n",
       "\n",
       "[5 rows x 21 columns]"
      ]
     },
     "execution_count": 2,
     "metadata": {},
     "output_type": "execute_result"
    }
   ],
   "source": [
    "ds.head()"
   ]
  },
  {
   "cell_type": "markdown",
   "id": "2c132375-d46d-42f7-b34a-8920f8674979",
   "metadata": {},
   "source": [
    "### Pre processamento (limpeza)"
   ]
  },
  {
   "cell_type": "code",
   "execution_count": 88,
   "id": "079b6602-150a-44be-99d5-9a19e1d50f13",
   "metadata": {
    "tags": []
   },
   "outputs": [
    {
     "data": {
      "text/html": [
       "<div>\n",
       "<style scoped>\n",
       "    .dataframe tbody tr th:only-of-type {\n",
       "        vertical-align: middle;\n",
       "    }\n",
       "\n",
       "    .dataframe tbody tr th {\n",
       "        vertical-align: top;\n",
       "    }\n",
       "\n",
       "    .dataframe thead th {\n",
       "        text-align: right;\n",
       "    }\n",
       "</style>\n",
       "<table border=\"1\" class=\"dataframe\">\n",
       "  <thead>\n",
       "    <tr style=\"text-align: right;\">\n",
       "      <th></th>\n",
       "      <th>yr_built</th>\n",
       "      <th>yr_renovated</th>\n",
       "      <th>price</th>\n",
       "    </tr>\n",
       "  </thead>\n",
       "  <tbody>\n",
       "    <tr>\n",
       "      <th>count</th>\n",
       "      <td>21613.000000</td>\n",
       "      <td>21613.000000</td>\n",
       "      <td>2.161300e+04</td>\n",
       "    </tr>\n",
       "    <tr>\n",
       "      <th>mean</th>\n",
       "      <td>1971.005136</td>\n",
       "      <td>84.402258</td>\n",
       "      <td>5.400881e+05</td>\n",
       "    </tr>\n",
       "    <tr>\n",
       "      <th>std</th>\n",
       "      <td>29.373411</td>\n",
       "      <td>401.679240</td>\n",
       "      <td>3.671272e+05</td>\n",
       "    </tr>\n",
       "    <tr>\n",
       "      <th>min</th>\n",
       "      <td>1900.000000</td>\n",
       "      <td>0.000000</td>\n",
       "      <td>7.500000e+04</td>\n",
       "    </tr>\n",
       "    <tr>\n",
       "      <th>25%</th>\n",
       "      <td>1951.000000</td>\n",
       "      <td>0.000000</td>\n",
       "      <td>3.219500e+05</td>\n",
       "    </tr>\n",
       "    <tr>\n",
       "      <th>50%</th>\n",
       "      <td>1975.000000</td>\n",
       "      <td>0.000000</td>\n",
       "      <td>4.500000e+05</td>\n",
       "    </tr>\n",
       "    <tr>\n",
       "      <th>75%</th>\n",
       "      <td>1997.000000</td>\n",
       "      <td>0.000000</td>\n",
       "      <td>6.450000e+05</td>\n",
       "    </tr>\n",
       "    <tr>\n",
       "      <th>max</th>\n",
       "      <td>2015.000000</td>\n",
       "      <td>2015.000000</td>\n",
       "      <td>7.700000e+06</td>\n",
       "    </tr>\n",
       "  </tbody>\n",
       "</table>\n",
       "</div>"
      ],
      "text/plain": [
       "           yr_built  yr_renovated         price\n",
       "count  21613.000000  21613.000000  2.161300e+04\n",
       "mean    1971.005136     84.402258  5.400881e+05\n",
       "std       29.373411    401.679240  3.671272e+05\n",
       "min     1900.000000      0.000000  7.500000e+04\n",
       "25%     1951.000000      0.000000  3.219500e+05\n",
       "50%     1975.000000      0.000000  4.500000e+05\n",
       "75%     1997.000000      0.000000  6.450000e+05\n",
       "max     2015.000000   2015.000000  7.700000e+06"
      ]
     },
     "execution_count": 88,
     "metadata": {},
     "output_type": "execute_result"
    }
   ],
   "source": [
    "# reduzindo nossa \"area de trabalho\"\n",
    "q1 = ds.loc[:, (\"yr_built\", \"yr_renovated\", \"price\")] # recomendado\n",
    "#q1 = ds[[\"yr_built\", \"yr_renovated\", \"price\"]] - não recomendado\n",
    "q1.describe()"
   ]
  },
  {
   "cell_type": "code",
   "execution_count": 89,
   "id": "e04f2fdc-078b-44ae-a7c8-2601b6d7b670",
   "metadata": {
    "tags": []
   },
   "outputs": [
    {
     "data": {
      "text/plain": [
       "yr_built        0\n",
       "yr_renovated    0\n",
       "price           0\n",
       "dtype: int64"
      ]
     },
     "execution_count": 89,
     "metadata": {},
     "output_type": "execute_result"
    }
   ],
   "source": [
    "# retirando linhas que tem algum valor faltando\n",
    "q1.dropna(inplace=True)\n",
    "# ds = ds.dropna()\n",
    "q1.isna().sum()"
   ]
  },
  {
   "cell_type": "code",
   "execution_count": 70,
   "id": "87e626aa-2caf-411a-be0f-9137906e5ef1",
   "metadata": {},
   "outputs": [
    {
     "data": {
      "text/plain": [
       "<AxesSubplot: >"
      ]
     },
     "execution_count": 70,
     "metadata": {},
     "output_type": "execute_result"
    },
    {
     "data": {
      "image/png": "[encoded data removed]",
      "text/plain": [
       "<Figure size 640x480 with 1 Axes>"
      ]
     },
     "metadata": {},
     "output_type": "display_data"
    }
   ],
   "source": [
    "# procurando outliers no preço (valores muito maiores ou menores que o \"normal\" da amastra)\n",
    "sns.boxplot(q1.price)"
   ]
  },
  {
   "cell_type": "code",
   "execution_count": 90,
   "id": "c79568c8-5730-439b-b722-72384c24ca7c",
   "metadata": {},
   "outputs": [
    {
     "name": "stdout",
     "output_type": "stream",
     "text": [
      "intervalo antes: [75000.0, 7700000.0]\n",
      "intervalo depois: [270500.0, 779380.0]\n"
     ]
    }
   ],
   "source": [
    "# existem varias formas de definir um intervalo valido\n",
    "print(f\"intervalo antes: [{q1.price.min()}, {q1.price.max()}]\")\n",
    "\n",
    "\n",
    "# algumas vezes, aliás, não é necessário redimensionar o intervalo dos dados\n",
    "# em outras você não Deve. Aqui vou fazer.\n",
    "muitoAbaixo = q1[\"price\"].quantile(0.15)\n",
    "muitoAcima  = q1[\"price\"].quantile(0.85)\n",
    "\n",
    "q1 = q1.loc[(q1[\"price\"] < muitoAcima) & (q1[\"price\"] > muitoAbaixo)]\n",
    "print(f\"intervalo depois: [{df_filtered.price.min()}, {df_filtered.price.max()}]\")"
   ]
  },
  {
   "cell_type": "code",
   "execution_count": 76,
   "id": "588f1bf6-2719-46ac-84cf-774faf730873",
   "metadata": {},
   "outputs": [
    {
     "data": {
      "text/plain": [
       "<AxesSubplot: xlabel='price'>"
      ]
     },
     "execution_count": 76,
     "metadata": {},
     "output_type": "execute_result"
    },
    {
     "data": {
      "image/png": "[encoded data removed]",
      "text/plain": [
       "<Figure size 640x480 with 1 Axes>"
      ]
     },
     "metadata": {},
     "output_type": "display_data"
    }
   ],
   "source": [
    "sns.boxplot(data = q1, x = \"price\")"
   ]
  },
  {
   "cell_type": "markdown",
   "id": "7e8b33b4-87da-4640-9ada-933b3d18dcf7",
   "metadata": {},
   "source": [
    "### Analisando"
   ]
  },
  {
   "cell_type": "code",
   "execution_count": 91,
   "id": "83bd36ef-60c9-4ff2-8d2a-a62735952828",
   "metadata": {},
   "outputs": [
    {
     "data": {
      "text/html": [
       "<div>\n",
       "<style scoped>\n",
       "    .dataframe tbody tr th:only-of-type {\n",
       "        vertical-align: middle;\n",
       "    }\n",
       "\n",
       "    .dataframe tbody tr th {\n",
       "        vertical-align: top;\n",
       "    }\n",
       "\n",
       "    .dataframe thead th {\n",
       "        text-align: right;\n",
       "    }\n",
       "</style>\n",
       "<table border=\"1\" class=\"dataframe\">\n",
       "  <thead>\n",
       "    <tr style=\"text-align: right;\">\n",
       "      <th></th>\n",
       "      <th>yr_built</th>\n",
       "      <th>yr_renovated</th>\n",
       "      <th>price</th>\n",
       "      <th>classification</th>\n",
       "    </tr>\n",
       "  </thead>\n",
       "  <tbody>\n",
       "    <tr>\n",
       "      <th>1</th>\n",
       "      <td>1951</td>\n",
       "      <td>1991</td>\n",
       "      <td>538000.0</td>\n",
       "      <td>medio</td>\n",
       "    </tr>\n",
       "    <tr>\n",
       "      <th>3</th>\n",
       "      <td>1965</td>\n",
       "      <td>0</td>\n",
       "      <td>604000.0</td>\n",
       "      <td>medio</td>\n",
       "    </tr>\n",
       "    <tr>\n",
       "      <th>4</th>\n",
       "      <td>1987</td>\n",
       "      <td>0</td>\n",
       "      <td>510000.0</td>\n",
       "      <td>medio</td>\n",
       "    </tr>\n",
       "    <tr>\n",
       "      <th>7</th>\n",
       "      <td>1963</td>\n",
       "      <td>0</td>\n",
       "      <td>291850.0</td>\n",
       "      <td>barato</td>\n",
       "    </tr>\n",
       "    <tr>\n",
       "      <th>9</th>\n",
       "      <td>2003</td>\n",
       "      <td>0</td>\n",
       "      <td>323000.0</td>\n",
       "      <td>barato</td>\n",
       "    </tr>\n",
       "  </tbody>\n",
       "</table>\n",
       "</div>"
      ],
      "text/plain": [
       "   yr_built  yr_renovated     price classification\n",
       "1      1951          1991  538000.0          medio\n",
       "3      1965             0  604000.0          medio\n",
       "4      1987             0  510000.0          medio\n",
       "7      1963             0  291850.0         barato\n",
       "9      2003             0  323000.0         barato"
      ]
     },
     "execution_count": 91,
     "metadata": {},
     "output_type": "execute_result"
    }
   ],
   "source": [
    "# Vamos discretizar, separar os preços em faixas bem definidas\n",
    "faixas = [\"barato\", \"medio\", \"caro\"]\n",
    "q1[\"classification\"] = pd.cut(q1.price, 3, labels=faixas)\n",
    "# 3 intervalos igualmente espaçados\n",
    "q1.head()"
   ]
  },
  {
   "cell_type": "code",
   "execution_count": 80,
   "id": "b103f692-cf86-4a74-b335-9bca1abc0dcd",
   "metadata": {},
   "outputs": [
    {
     "data": {
      "text/plain": [
       "<AxesSubplot: xlabel='classification', ylabel='Count'>"
      ]
     },
     "execution_count": 80,
     "metadata": {},
     "output_type": "execute_result"
    },
    {
     "data": {
      "image/png": "[encoded data removed]",
      "text/plain": [
       "<Figure size 640x480 with 1 Axes>"
      ]
     },
     "metadata": {},
     "output_type": "display_data"
    }
   ],
   "source": [
    "sns.histplot(data=q1, x=\"classification\")\n",
    "#eixo y é o número de elementos dentro desse intervalo"
   ]
  },
  {
   "cell_type": "code",
   "execution_count": 122,
   "id": "d4f82fad-4444-4aa3-81b2-0618fe4e8c3c",
   "metadata": {
    "tags": []
   },
   "outputs": [
    {
     "data": {
      "text/html": [
       "<div>\n",
       "<style scoped>\n",
       "    .dataframe tbody tr th:only-of-type {\n",
       "        vertical-align: middle;\n",
       "    }\n",
       "\n",
       "    .dataframe tbody tr th {\n",
       "        vertical-align: top;\n",
       "    }\n",
       "\n",
       "    .dataframe thead th {\n",
       "        text-align: right;\n",
       "    }\n",
       "</style>\n",
       "<table border=\"1\" class=\"dataframe\">\n",
       "  <thead>\n",
       "    <tr style=\"text-align: right;\">\n",
       "      <th></th>\n",
       "      <th>yr_built</th>\n",
       "      <th>yr_renovated</th>\n",
       "      <th>price</th>\n",
       "      <th>classification</th>\n",
       "      <th>isRenovated</th>\n",
       "      <th>idadeCasa</th>\n",
       "    </tr>\n",
       "  </thead>\n",
       "  <tbody>\n",
       "    <tr>\n",
       "      <th>1</th>\n",
       "      <td>1951</td>\n",
       "      <td>1991</td>\n",
       "      <td>538000.0</td>\n",
       "      <td>medio</td>\n",
       "      <td>1</td>\n",
       "      <td>adulta</td>\n",
       "    </tr>\n",
       "    <tr>\n",
       "      <th>3</th>\n",
       "      <td>1965</td>\n",
       "      <td>0</td>\n",
       "      <td>604000.0</td>\n",
       "      <td>medio</td>\n",
       "      <td>0</td>\n",
       "      <td>adulta</td>\n",
       "    </tr>\n",
       "    <tr>\n",
       "      <th>4</th>\n",
       "      <td>1987</td>\n",
       "      <td>0</td>\n",
       "      <td>510000.0</td>\n",
       "      <td>medio</td>\n",
       "      <td>0</td>\n",
       "      <td>nova</td>\n",
       "    </tr>\n",
       "    <tr>\n",
       "      <th>7</th>\n",
       "      <td>1963</td>\n",
       "      <td>0</td>\n",
       "      <td>291850.0</td>\n",
       "      <td>barato</td>\n",
       "      <td>0</td>\n",
       "      <td>adulta</td>\n",
       "    </tr>\n",
       "    <tr>\n",
       "      <th>9</th>\n",
       "      <td>2003</td>\n",
       "      <td>0</td>\n",
       "      <td>323000.0</td>\n",
       "      <td>barato</td>\n",
       "      <td>0</td>\n",
       "      <td>nova</td>\n",
       "    </tr>\n",
       "    <tr>\n",
       "      <th>10</th>\n",
       "      <td>1965</td>\n",
       "      <td>0</td>\n",
       "      <td>662500.0</td>\n",
       "      <td>caro</td>\n",
       "      <td>0</td>\n",
       "      <td>adulta</td>\n",
       "    </tr>\n",
       "    <tr>\n",
       "      <th>11</th>\n",
       "      <td>1942</td>\n",
       "      <td>0</td>\n",
       "      <td>468000.0</td>\n",
       "      <td>medio</td>\n",
       "      <td>0</td>\n",
       "      <td>adulta</td>\n",
       "    </tr>\n",
       "    <tr>\n",
       "      <th>12</th>\n",
       "      <td>1927</td>\n",
       "      <td>0</td>\n",
       "      <td>310000.0</td>\n",
       "      <td>barato</td>\n",
       "      <td>0</td>\n",
       "      <td>velha</td>\n",
       "    </tr>\n",
       "    <tr>\n",
       "      <th>13</th>\n",
       "      <td>1977</td>\n",
       "      <td>0</td>\n",
       "      <td>400000.0</td>\n",
       "      <td>barato</td>\n",
       "      <td>0</td>\n",
       "      <td>nova</td>\n",
       "    </tr>\n",
       "    <tr>\n",
       "      <th>14</th>\n",
       "      <td>1900</td>\n",
       "      <td>0</td>\n",
       "      <td>530000.0</td>\n",
       "      <td>medio</td>\n",
       "      <td>0</td>\n",
       "      <td>velha</td>\n",
       "    </tr>\n",
       "  </tbody>\n",
       "</table>\n",
       "</div>"
      ],
      "text/plain": [
       "    yr_built  yr_renovated     price classification  isRenovated idadeCasa\n",
       "1       1951          1991  538000.0          medio            1    adulta\n",
       "3       1965             0  604000.0          medio            0    adulta\n",
       "4       1987             0  510000.0          medio            0      nova\n",
       "7       1963             0  291850.0         barato            0    adulta\n",
       "9       2003             0  323000.0         barato            0      nova\n",
       "10      1965             0  662500.0           caro            0    adulta\n",
       "11      1942             0  468000.0          medio            0    adulta\n",
       "12      1927             0  310000.0         barato            0     velha\n",
       "13      1977             0  400000.0         barato            0      nova\n",
       "14      1900             0  530000.0          medio            0     velha"
      ]
     },
     "execution_count": 122,
     "metadata": {},
     "output_type": "execute_result"
    }
   ],
   "source": [
    "# criando outras colunas para filtra\n",
    "q1.loc[q1[\"yr_renovated\"] > 0, \"isRenovated\"] = 1\n",
    "# 0 = não renovada, 1 = renovada\n",
    "\n",
    "q1[\"idadeCasa\"] = pd.cut(q1.yr_built, 3, labels=[\"velha\", \"adulta\", \"nova\"])\n",
    "\n",
    "q1.head(10)"
   ]
  },
  {
   "cell_type": "code",
   "execution_count": 119,
   "id": "6b06c1c6-b5e8-4632-a2e4-cc8426672d71",
   "metadata": {},
   "outputs": [
    {
     "data": {
      "text/plain": [
       "<AxesSubplot: xlabel='idadeCasa', ylabel='price'>"
      ]
     },
     "execution_count": 119,
     "metadata": {},
     "output_type": "execute_result"
    },
    {
     "data": {
      "image/png": "[encoded data removed]",
      "text/plain": [
       "<Figure size 640x480 with 1 Axes>"
      ]
     },
     "metadata": {},
     "output_type": "display_data"
    }
   ],
   "source": [
    "sns.barplot(data=q1, x=\"idadeCasa\", y=\"price\", hue=\"isRenovated\")"
   ]
  },
  {
   "cell_type": "code",
   "execution_count": 124,
   "id": "0b2845be-9c89-404a-8ee1-13c0f5528523",
   "metadata": {},
   "outputs": [
    {
     "data": {
      "text/plain": [
       "<AxesSubplot: >"
      ]
     },
     "execution_count": 124,
     "metadata": {},
     "output_type": "execute_result"
    },
    {
     "data": {
      "image/png": "[encoded data removed]",
      "text/plain": [
       "<Figure size 640x480 with 2 Axes>"
      ]
     },
     "metadata": {},
     "output_type": "display_data"
    }
   ],
   "source": [
    "sns.heatmap(q1.corr(numeric_only=True))"
   ]
  },
  {
   "cell_type": "markdown",
   "id": "105633b9-13dd-4d42-9bb1-e9f934f5f7bc",
   "metadata": {},
   "source": [
    "### conclusões\n",
    "\n",
    "- Pelos gráficos (não mostraram tendência) e pelo valor da correlação (perto de 0) podemos afirmar que o preço não varia de acordo com a idade da casa, ao menos não diretamente\n",
    "- "
   ]
  }
 ],
 "metadata": {
  "kernelspec": {
   "display_name": "Python 3 (ipykernel)",
   "language": "python",
   "name": "python3"
  },
  "language_info": {
   "codemirror_mode": {
    "name": "ipython",
    "version": 3
   },
   "file_extension": ".py",
   "mimetype": "text/x-python",
   "name": "python",
   "nbconvert_exporter": "python",
   "pygments_lexer": "ipython3",
   "version": "3.10.6"
  }
 },
 "nbformat": 4,
 "nbformat_minor": 5
}
